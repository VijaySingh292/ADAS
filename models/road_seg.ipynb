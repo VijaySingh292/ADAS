{
 "cells": [
  {
   "cell_type": "code",
   "execution_count": null,
   "id": "c0f52384",
   "metadata": {},
   "outputs": [],
   "source": [
    "from ultralytics import YOLO\n",
    "\n",
    "def train_road_segmentation():\n",
    "    model = YOLO('yolov8n-seg.pt')\n",
    "    model.train(\n",
    "        data='road_dataset/data.yaml',\n",
    "        epochs=100,\n",
    "        imgsz=640,\n",
    "        batch=16,\n",
    "        device=0,\n",
    "        name='road-segmentation',\n",
    "        project='runs/road_seg',\n",
    "        pretrained=True,\n",
    "        patience=20,\n",
    "        verbose=True\n",
    "    )\n",
    "\n",
    "if __name__ == \"__main__\":\n",
    "    train_road_segmentation()\n"
   ]
  }
 ],
 "metadata": {
  "language_info": {
   "name": "python"
  }
 },
 "nbformat": 4,
 "nbformat_minor": 5
}
